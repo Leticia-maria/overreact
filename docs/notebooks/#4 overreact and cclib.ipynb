{
 "cells": [
  {
   "cell_type": "code",
   "execution_count": 1,
   "metadata": {},
   "outputs": [],
   "source": [
    "import cclib\n",
    "import numpy as np\n",
    "import matplotlib.pyplot as plt\n",
    "from scipy import constants\n",
    "\n",
    "from overreact import core, thermo, rates, simulate\n",
    "\n",
    "%matplotlib inline"
   ]
  },
  {
   "cell_type": "code",
   "execution_count": 2,
   "metadata": {},
   "outputs": [
    {
     "data": {
      "text/plain": [
       "2625499.6394798253"
      ]
     },
     "execution_count": 2,
     "metadata": {},
     "output_type": "execute_result"
    }
   ],
   "source": [
    "jmol = constants.physical_constants[\"Hartree energy\"][0] * constants.N_A\n",
    "jmol"
   ]
  },
  {
   "cell_type": "markdown",
   "metadata": {},
   "source": [
    "I want to reproduce the results of [this paper](https://doi.org/10.1002/qua.25686):\n",
    "\n",
    "$$\\require{mhchem}\\ce{CH4 + Cl^{.} <=> RC -> RC^{\\ddagger} <=> CH3^{.} + HCl}$$"
   ]
  },
  {
   "cell_type": "code",
   "execution_count": 3,
   "metadata": {},
   "outputs": [
    {
     "data": {
      "text/plain": [
       "Scheme(compounds=['CH4', 'Cl.', 'RC', 'RC*', 'PC', 'CH3.', 'HCl'], reactions=['CH4 + Cl. -> RC', 'RC -> CH4 + Cl.', 'RC -> PC', 'PC -> CH3. + HCl', 'CH3. + HCl -> PC'], is_half_equilibrium=array([ True,  True, False,  True,  True]), A=array([[-1.,  1.,  0.,  0.,  0.],\n",
       "       [-1.,  1.,  0.,  0.,  0.],\n",
       "       [ 1., -1., -1.,  0.,  0.],\n",
       "       [ 0.,  0.,  0.,  0.,  0.],\n",
       "       [ 0.,  0.,  1., -1.,  1.],\n",
       "       [ 0.,  0.,  0.,  1., -1.],\n",
       "       [ 0.,  0.,  0.,  1., -1.]]), B=array([[-1.,  0.,  0.,  0.,  0.],\n",
       "       [-1.,  0.,  0.,  0.,  0.],\n",
       "       [ 1.,  0., -1.,  0.,  0.],\n",
       "       [ 0.,  0.,  1.,  0.,  0.],\n",
       "       [ 0.,  0.,  0., -1.,  0.],\n",
       "       [ 0.,  0.,  0.,  1.,  0.],\n",
       "       [ 0.,  0.,  0.,  1.,  0.]]))"
      ]
     },
     "execution_count": 3,
     "metadata": {},
     "output_type": "execute_result"
    }
   ],
   "source": [
    "scheme = core.parse(\"\"\"\n",
    "    CH4 + Cl. <=> RC -> RC* -> PC <=> CH3. + HCl\n",
    "\"\"\")\n",
    "scheme"
   ]
  },
  {
   "cell_type": "markdown",
   "metadata": {},
   "source": [
    "Now let's read some data from files:"
   ]
  },
  {
   "cell_type": "code",
   "execution_count": 4,
   "metadata": {},
   "outputs": [
    {
     "data": {
      "text/plain": [
       "array([ -40.36982099, -459.64945755, -500.01497634, -499.99897386,\n",
       "       -500.00998076,  -39.71365855, -460.30383376])"
      ]
     },
     "execution_count": 4,
     "metadata": {},
     "output_type": "execute_result"
    }
   ],
   "source": [
    "logfiles = {\n",
    "    \"CH4\": cclib.ccopen(\"../../data/Dzib_2018/ch4.out\").parse().getattributes(),\n",
    "    \"RC\": cclib.ccopen(\"../../data/Dzib_2018/reactants.out\").parse().getattributes(),\n",
    "    \"RC*\": cclib.ccopen(\"../../data/Dzib_2018/ts.out\").parse().getattributes(),\n",
    "    \"PC\": cclib.ccopen(\"../../data/Dzib_2018/products.out\").parse().getattributes(),\n",
    "    \"CH3.\": cclib.ccopen(\"../../data/Dzib_2018/ch3.out\").parse().getattributes(),\n",
    "    \"HCl\": cclib.ccopen(\"../../data/Dzib_2018/hcl.out\").parse().getattributes(),\n",
    "#     \"Cl.\": cclib.ccopen(\"../../data/Dzib_2018/cl.out\").parse().getattributes(),\n",
    "    \"Cl.\": {\n",
    "        \"enthalpy\": -459.62856787 - 0.00283260,\n",
    "        \"entropy\": 0.00065446 + 0.01740262,  # S(el) + S(vib) + S(rot) + S(trans)\n",
    "    },\n",
    "}\n",
    "logfiles[\"Cl.\"][\"freeenergy\"] = logfiles[\"Cl.\"][\"enthalpy\"] - logfiles[\"Cl.\"][\"entropy\"]\n",
    "\n",
    "freeenergy = np.array([logfiles[compound][\"freeenergy\"] for compound in scheme.compounds])\n",
    "freeenergy"
   ]
  },
  {
   "cell_type": "code",
   "execution_count": 5,
   "metadata": {},
   "outputs": [
    {
     "data": {
      "text/plain": [
       "2.1984125935789756"
      ]
     },
     "execution_count": 5,
     "metadata": {},
     "output_type": "execute_result"
    }
   ],
   "source": [
    "Gconc = constants.R * 298.15 * np.log(constants.atm / (constants.R * 298.15))\n",
    "Gconc / 4184.0"
   ]
  },
  {
   "cell_type": "markdown",
   "metadata": {},
   "source": [
    "The below is just to remind myself that the enthalpy and entropy come out subtractively contributing to the free energy in ORCA!"
   ]
  },
  {
   "cell_type": "code",
   "execution_count": 6,
   "metadata": {},
   "outputs": [
    {
     "data": {
      "text/plain": [
       "True"
      ]
     },
     "execution_count": 6,
     "metadata": {},
     "output_type": "execute_result"
    }
   ],
   "source": [
    "logfiles[\"CH4\"][\"enthalpy\"] - logfiles[\"CH4\"][\"entropy\"] == logfiles[\"CH4\"][\"freeenergy\"]"
   ]
  },
  {
   "cell_type": "markdown",
   "metadata": {},
   "source": [
    "Some barriers, which will then be adjusted for molecularity (if needed, it's easier to adjust the absolute Gibbs energies by ):"
   ]
  },
  {
   "cell_type": "code",
   "execution_count": 7,
   "metadata": {},
   "outputs": [
    {
     "data": {
      "text/plain": [
       "array([ 0.50125867,  0.        , 10.04170781, -2.5151562 ,  0.        ])"
      ]
     },
     "execution_count": 7,
     "metadata": {},
     "output_type": "execute_result"
    }
   ],
   "source": [
    "barriers = thermo.get_delta_freeenergy(scheme.B, freeenergy * jmol + Gconc)\n",
    "barriers / 4184"
   ]
  },
  {
   "cell_type": "code",
   "execution_count": 8,
   "metadata": {},
   "outputs": [
    {
     "data": {
      "text/plain": [
       "array([2., 1., 1., 1., 2.])"
      ]
     },
     "execution_count": 8,
     "metadata": {},
     "output_type": "execute_result"
    }
   ],
   "source": [
    "molecularity = np.sum(np.where(scheme.A < 0, -scheme.A, 0), axis=0)\n",
    "molecularity"
   ]
  },
  {
   "cell_type": "code",
   "execution_count": 9,
   "metadata": {},
   "outputs": [
    {
     "data": {
      "text/plain": [
       "array([2.66585740e+12, 6.21243799e+12, 2.70794079e+05, 4.33395455e+14,\n",
       "       6.21243799e+12])"
      ]
     },
     "execution_count": 9,
     "metadata": {},
     "output_type": "execute_result"
    }
   ],
   "source": [
    "k = rates.eyring(barriers)\n",
    "k"
   ]
  },
  {
   "cell_type": "code",
   "execution_count": 10,
   "metadata": {},
   "outputs": [
    {
     "data": {
      "text/plain": [
       "0.11620210967211467"
      ]
     },
     "execution_count": 10,
     "metadata": {},
     "output_type": "execute_result"
    }
   ],
   "source": [
    "1e-6 * k[2] * k[0] / k[1]"
   ]
  },
  {
   "cell_type": "code",
   "execution_count": 11,
   "metadata": {},
   "outputs": [
    {
     "data": {
      "text/plain": [
       "['CH4 + Cl. -> RC',\n",
       " 'RC -> CH4 + Cl.',\n",
       " 'RC -> PC',\n",
       " 'PC -> CH3. + HCl',\n",
       " 'CH3. + HCl -> PC']"
      ]
     },
     "execution_count": 11,
     "metadata": {},
     "output_type": "execute_result"
    }
   ],
   "source": [
    "scheme.reactions"
   ]
  },
  {
   "cell_type": "code",
   "execution_count": 12,
   "metadata": {},
   "outputs": [
    {
     "data": {
      "text/plain": [
       "array([0.08997128, 0.08997128, 0.00347225, 0.        , 0.01148404,\n",
       "       0.89507239, 0.89507239])"
      ]
     },
     "execution_count": 12,
     "metadata": {},
     "output_type": "execute_result"
    },
    {
     "data": {
      "image/png": "[encoded data removed]",
      "text/plain": [
       "<Figure size 432x288 with 1 Axes>"
      ]
     },
     "metadata": {
      "needs_background": "light"
     },
     "output_type": "display_data"
    }
   ],
   "source": [
    "dydt = simulate.get_dydt(scheme, k)\n",
    "t, y = simulate.get_y(dydt, y0=[1.0, 1.0, 0.0, 0.0, 0., 0., 0.], t_span=[0.0, 1.0e-4], method=\"Radau\")\n",
    "\n",
    "for i, compound in enumerate(scheme.compounds):\n",
    "    if not compound.endswith(\"*\"):\n",
    "        plt.plot(t, y[i], label=compound)\n",
    "plt.legend()\n",
    "\n",
    "y[:, -1]"
   ]
  },
  {
   "cell_type": "code",
   "execution_count": 13,
   "metadata": {},
   "outputs": [
    {
     "data": {
      "text/plain": [
       "(-5000.0, 5000.0)"
      ]
     },
     "execution_count": 13,
     "metadata": {},
     "output_type": "execute_result"
    },
    {
     "data": {
      "image/png": "[encoded data removed]",
      "text/plain": [
       "<Figure size 432x288 with 1 Axes>"
      ]
     },
     "metadata": {
      "needs_background": "light"
     },
     "output_type": "display_data"
    }
   ],
   "source": [
    "dydt_vals = np.array([dydt(t, yt) for yt in y.T])\n",
    "\n",
    "for i, compound in enumerate(scheme.compounds):\n",
    "    if not compound.endswith(\"*\"):\n",
    "        plt.plot(t, dydt_vals.T[i], label=compound)\n",
    "plt.legend()\n",
    "\n",
    "plt.ylim(-5e3, 5e3)"
   ]
  }
 ],
 "metadata": {
  "kernelspec": {
   "display_name": "Python 3",
   "language": "python",
   "name": "python3"
  },
  "language_info": {
   "codemirror_mode": {
    "name": "ipython",
    "version": 3
   },
   "file_extension": ".py",
   "mimetype": "text/x-python",
   "name": "python",
   "nbconvert_exporter": "python",
   "pygments_lexer": "ipython3",
   "version": "3.6.9"
  }
 },
 "nbformat": 4,
 "nbformat_minor": 2
}
